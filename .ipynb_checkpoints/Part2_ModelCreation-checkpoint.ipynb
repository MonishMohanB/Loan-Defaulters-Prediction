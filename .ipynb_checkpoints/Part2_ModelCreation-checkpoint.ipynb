{
 "cells": [
  {
   "cell_type": "markdown",
   "metadata": {},
   "source": [
    "# Part 2: Model building and Analysis"
   ]
  },
  {
   "cell_type": "code",
   "execution_count": 1,
   "metadata": {},
   "outputs": [],
   "source": [
    "import os\n",
    "import pandas as pd\n",
    "import numpy as np\n",
    "from sklearn import preprocessing,metrics \n",
    "from IPython.core.display import HTML\n",
    "pd.set_option(\"display.max_columns\",75)\n",
    "import warnings\n",
    "warnings.filterwarnings('ignore')\n",
    "\n",
    "from sklearn.model_selection import learning_curve\n",
    "from sklearn.model_selection import ShuffleSplit\n",
    "from sklearn.model_selection import train_test_split\n",
    "from sklearn.ensemble import RandomForestClassifier\n",
    "from sklearn.neighbors import KNeighborsClassifier\n",
    "from sklearn import linear_model,svm\n",
    "from sklearn.svm import SVC\n",
    "\n",
    "from sklearn.metrics import accuracy_score\n",
    "from sklearn.metrics import average_precision_score\n",
    "from sklearn.metrics import precision_recall_curve\n",
    "\n",
    "import matplotlib.pyplot as plt\n",
    "import seaborn as sns\n",
    "%matplotlib inline\n",
    "\n"
   ]
  },
  {
   "cell_type": "code",
   "execution_count": 2,
   "metadata": {},
   "outputs": [],
   "source": [
    "dataset = pd.read_csv('final_training.csv',low_memory=False)"
   ]
  },
  {
   "cell_type": "code",
   "execution_count": 3,
   "metadata": {},
   "outputs": [
    {
     "data": {
      "text/html": [
       "<div>\n",
       "<style scoped>\n",
       "    .dataframe tbody tr th:only-of-type {\n",
       "        vertical-align: middle;\n",
       "    }\n",
       "\n",
       "    .dataframe tbody tr th {\n",
       "        vertical-align: top;\n",
       "    }\n",
       "\n",
       "    .dataframe thead th {\n",
       "        text-align: right;\n",
       "    }\n",
       "</style>\n",
       "<table border=\"1\" class=\"dataframe\">\n",
       "  <thead>\n",
       "    <tr style=\"text-align: right;\">\n",
       "      <th></th>\n",
       "      <th>revol_bal</th>\n",
       "      <th>home_ownership</th>\n",
       "      <th>verification_status</th>\n",
       "      <th>emp_length</th>\n",
       "      <th>dti</th>\n",
       "      <th>annual_inc</th>\n",
       "      <th>output</th>\n",
       "    </tr>\n",
       "  </thead>\n",
       "  <tbody>\n",
       "    <tr>\n",
       "      <th>0</th>\n",
       "      <td>10768</td>\n",
       "      <td>MORTGAGE</td>\n",
       "      <td>Not Verified</td>\n",
       "      <td>10.0</td>\n",
       "      <td>24.31</td>\n",
       "      <td>66000.0</td>\n",
       "      <td>Non-Defaulters</td>\n",
       "    </tr>\n",
       "    <tr>\n",
       "      <th>1</th>\n",
       "      <td>35551</td>\n",
       "      <td>MORTGAGE</td>\n",
       "      <td>Verified</td>\n",
       "      <td>2.0</td>\n",
       "      <td>1.70</td>\n",
       "      <td>110000.0</td>\n",
       "      <td>Non-Defaulters</td>\n",
       "    </tr>\n",
       "    <tr>\n",
       "      <th>2</th>\n",
       "      <td>40836</td>\n",
       "      <td>MORTGAGE</td>\n",
       "      <td>Not Verified</td>\n",
       "      <td>6.0</td>\n",
       "      <td>19.86</td>\n",
       "      <td>98005.0</td>\n",
       "      <td>Non-Defaulters</td>\n",
       "    </tr>\n",
       "    <tr>\n",
       "      <th>3</th>\n",
       "      <td>25237</td>\n",
       "      <td>RENT</td>\n",
       "      <td>Not Verified</td>\n",
       "      <td>10.0</td>\n",
       "      <td>20.01</td>\n",
       "      <td>55000.0</td>\n",
       "      <td>Non-Defaulters</td>\n",
       "    </tr>\n",
       "    <tr>\n",
       "      <th>4</th>\n",
       "      <td>17469</td>\n",
       "      <td>RENT</td>\n",
       "      <td>Source Verified</td>\n",
       "      <td>10.0</td>\n",
       "      <td>16.76</td>\n",
       "      <td>71500.0</td>\n",
       "      <td>Non-Defaulters</td>\n",
       "    </tr>\n",
       "  </tbody>\n",
       "</table>\n",
       "</div>"
      ],
      "text/plain": [
       "   revol_bal home_ownership verification_status  emp_length    dti  \\\n",
       "0      10768       MORTGAGE        Not Verified        10.0  24.31   \n",
       "1      35551       MORTGAGE            Verified         2.0   1.70   \n",
       "2      40836       MORTGAGE        Not Verified         6.0  19.86   \n",
       "3      25237           RENT        Not Verified        10.0  20.01   \n",
       "4      17469           RENT     Source Verified        10.0  16.76   \n",
       "\n",
       "   annual_inc          output  \n",
       "0     66000.0  Non-Defaulters  \n",
       "1    110000.0  Non-Defaulters  \n",
       "2     98005.0  Non-Defaulters  \n",
       "3     55000.0  Non-Defaulters  \n",
       "4     71500.0  Non-Defaulters  "
      ]
     },
     "execution_count": 3,
     "metadata": {},
     "output_type": "execute_result"
    }
   ],
   "source": [
    "dataset.head()"
   ]
  },
  {
   "cell_type": "markdown",
   "metadata": {},
   "source": [
    "Changing output target into 0 and 1 values"
   ]
  },
  {
   "cell_type": "code",
   "execution_count": 4,
   "metadata": {},
   "outputs": [
    {
     "data": {
      "text/plain": [
       "array(['Non-Defaulters', 'Defaulters'], dtype=object)"
      ]
     },
     "execution_count": 4,
     "metadata": {},
     "output_type": "execute_result"
    }
   ],
   "source": [
    "dataset[\"output\"].unique()"
   ]
  },
  {
   "cell_type": "code",
   "execution_count": 5,
   "metadata": {},
   "outputs": [],
   "source": [
    "di = {\"Non-Defaulters\":0, \"Defaulters\":1}   #converting target variable to boolean\n",
    "Dataset_withBoolTarget= dataset.replace({\"output\": di})"
   ]
  },
  {
   "cell_type": "code",
   "execution_count": 6,
   "metadata": {},
   "outputs": [
    {
     "data": {
      "text/html": [
       "<div>\n",
       "<style scoped>\n",
       "    .dataframe tbody tr th:only-of-type {\n",
       "        vertical-align: middle;\n",
       "    }\n",
       "\n",
       "    .dataframe tbody tr th {\n",
       "        vertical-align: top;\n",
       "    }\n",
       "\n",
       "    .dataframe thead th {\n",
       "        text-align: right;\n",
       "    }\n",
       "</style>\n",
       "<table border=\"1\" class=\"dataframe\">\n",
       "  <thead>\n",
       "    <tr style=\"text-align: right;\">\n",
       "      <th></th>\n",
       "      <th>revol_bal</th>\n",
       "      <th>home_ownership</th>\n",
       "      <th>verification_status</th>\n",
       "      <th>emp_length</th>\n",
       "      <th>dti</th>\n",
       "      <th>annual_inc</th>\n",
       "      <th>output</th>\n",
       "    </tr>\n",
       "  </thead>\n",
       "  <tbody>\n",
       "    <tr>\n",
       "      <th>0</th>\n",
       "      <td>10768</td>\n",
       "      <td>MORTGAGE</td>\n",
       "      <td>Not Verified</td>\n",
       "      <td>10.0</td>\n",
       "      <td>24.31</td>\n",
       "      <td>66000.0</td>\n",
       "      <td>0</td>\n",
       "    </tr>\n",
       "    <tr>\n",
       "      <th>1</th>\n",
       "      <td>35551</td>\n",
       "      <td>MORTGAGE</td>\n",
       "      <td>Verified</td>\n",
       "      <td>2.0</td>\n",
       "      <td>1.70</td>\n",
       "      <td>110000.0</td>\n",
       "      <td>0</td>\n",
       "    </tr>\n",
       "    <tr>\n",
       "      <th>2</th>\n",
       "      <td>40836</td>\n",
       "      <td>MORTGAGE</td>\n",
       "      <td>Not Verified</td>\n",
       "      <td>6.0</td>\n",
       "      <td>19.86</td>\n",
       "      <td>98005.0</td>\n",
       "      <td>0</td>\n",
       "    </tr>\n",
       "    <tr>\n",
       "      <th>3</th>\n",
       "      <td>25237</td>\n",
       "      <td>RENT</td>\n",
       "      <td>Not Verified</td>\n",
       "      <td>10.0</td>\n",
       "      <td>20.01</td>\n",
       "      <td>55000.0</td>\n",
       "      <td>0</td>\n",
       "    </tr>\n",
       "    <tr>\n",
       "      <th>4</th>\n",
       "      <td>17469</td>\n",
       "      <td>RENT</td>\n",
       "      <td>Source Verified</td>\n",
       "      <td>10.0</td>\n",
       "      <td>16.76</td>\n",
       "      <td>71500.0</td>\n",
       "      <td>0</td>\n",
       "    </tr>\n",
       "  </tbody>\n",
       "</table>\n",
       "</div>"
      ],
      "text/plain": [
       "   revol_bal home_ownership verification_status  emp_length    dti  \\\n",
       "0      10768       MORTGAGE        Not Verified        10.0  24.31   \n",
       "1      35551       MORTGAGE            Verified         2.0   1.70   \n",
       "2      40836       MORTGAGE        Not Verified         6.0  19.86   \n",
       "3      25237           RENT        Not Verified        10.0  20.01   \n",
       "4      17469           RENT     Source Verified        10.0  16.76   \n",
       "\n",
       "   annual_inc  output  \n",
       "0     66000.0       0  \n",
       "1    110000.0       0  \n",
       "2     98005.0       0  \n",
       "3     55000.0       0  \n",
       "4     71500.0       0  "
      ]
     },
     "execution_count": 6,
     "metadata": {},
     "output_type": "execute_result"
    }
   ],
   "source": [
    "Dataset_withBoolTarget.head()"
   ]
  },
  {
   "cell_type": "code",
   "execution_count": 7,
   "metadata": {},
   "outputs": [],
   "source": [
    "Dataset_withBoolTarget[\"home_ownership\"] = Dataset_withBoolTarget[\"home_ownership\"].map({\"MORTGAGE\": \"MORTGAGE\",\n",
    "                                                                                         \"RENT\":\"RENT\",\n",
    "                                                                                         \"OWN\":\"OWN\",\n",
    "                                                                                         \"OTHER\":\"OTHER\",\n",
    "                                                                                         \"NONE\":\"OTHER\",\n",
    "                                                                                         \"ANY\":\"OTHER\"})"
   ]
  },
  {
   "cell_type": "code",
   "execution_count": 8,
   "metadata": {},
   "outputs": [],
   "source": [
    "d1 = pd.concat([Dataset_withBoolTarget.get(['revol_bal','emp_length','dti','annual_inc']),\n",
    "                           pd.get_dummies(Dataset_withBoolTarget['home_ownership'], prefix='Home'),\n",
    "                           pd.get_dummies(Dataset_withBoolTarget['verification_status'], prefix='verification'),\n",
    "                Dataset_withBoolTarget.get(['output'])],axis=1)"
   ]
  },
  {
   "cell_type": "code",
   "execution_count": 9,
   "metadata": {},
   "outputs": [
    {
     "data": {
      "text/html": [
       "<div>\n",
       "<style scoped>\n",
       "    .dataframe tbody tr th:only-of-type {\n",
       "        vertical-align: middle;\n",
       "    }\n",
       "\n",
       "    .dataframe tbody tr th {\n",
       "        vertical-align: top;\n",
       "    }\n",
       "\n",
       "    .dataframe thead th {\n",
       "        text-align: right;\n",
       "    }\n",
       "</style>\n",
       "<table border=\"1\" class=\"dataframe\">\n",
       "  <thead>\n",
       "    <tr style=\"text-align: right;\">\n",
       "      <th></th>\n",
       "      <th>revol_bal</th>\n",
       "      <th>emp_length</th>\n",
       "      <th>dti</th>\n",
       "      <th>annual_inc</th>\n",
       "      <th>Home_MORTGAGE</th>\n",
       "      <th>Home_OTHER</th>\n",
       "      <th>Home_OWN</th>\n",
       "      <th>Home_RENT</th>\n",
       "      <th>verification_Not Verified</th>\n",
       "      <th>verification_Source Verified</th>\n",
       "      <th>verification_Verified</th>\n",
       "      <th>output</th>\n",
       "    </tr>\n",
       "  </thead>\n",
       "  <tbody>\n",
       "    <tr>\n",
       "      <th>0</th>\n",
       "      <td>10768</td>\n",
       "      <td>10.0</td>\n",
       "      <td>24.31</td>\n",
       "      <td>66000.0</td>\n",
       "      <td>1</td>\n",
       "      <td>0</td>\n",
       "      <td>0</td>\n",
       "      <td>0</td>\n",
       "      <td>1</td>\n",
       "      <td>0</td>\n",
       "      <td>0</td>\n",
       "      <td>0</td>\n",
       "    </tr>\n",
       "    <tr>\n",
       "      <th>1</th>\n",
       "      <td>35551</td>\n",
       "      <td>2.0</td>\n",
       "      <td>1.70</td>\n",
       "      <td>110000.0</td>\n",
       "      <td>1</td>\n",
       "      <td>0</td>\n",
       "      <td>0</td>\n",
       "      <td>0</td>\n",
       "      <td>0</td>\n",
       "      <td>0</td>\n",
       "      <td>1</td>\n",
       "      <td>0</td>\n",
       "    </tr>\n",
       "    <tr>\n",
       "      <th>2</th>\n",
       "      <td>40836</td>\n",
       "      <td>6.0</td>\n",
       "      <td>19.86</td>\n",
       "      <td>98005.0</td>\n",
       "      <td>1</td>\n",
       "      <td>0</td>\n",
       "      <td>0</td>\n",
       "      <td>0</td>\n",
       "      <td>1</td>\n",
       "      <td>0</td>\n",
       "      <td>0</td>\n",
       "      <td>0</td>\n",
       "    </tr>\n",
       "    <tr>\n",
       "      <th>3</th>\n",
       "      <td>25237</td>\n",
       "      <td>10.0</td>\n",
       "      <td>20.01</td>\n",
       "      <td>55000.0</td>\n",
       "      <td>0</td>\n",
       "      <td>0</td>\n",
       "      <td>0</td>\n",
       "      <td>1</td>\n",
       "      <td>1</td>\n",
       "      <td>0</td>\n",
       "      <td>0</td>\n",
       "      <td>0</td>\n",
       "    </tr>\n",
       "    <tr>\n",
       "      <th>4</th>\n",
       "      <td>17469</td>\n",
       "      <td>10.0</td>\n",
       "      <td>16.76</td>\n",
       "      <td>71500.0</td>\n",
       "      <td>0</td>\n",
       "      <td>0</td>\n",
       "      <td>0</td>\n",
       "      <td>1</td>\n",
       "      <td>0</td>\n",
       "      <td>1</td>\n",
       "      <td>0</td>\n",
       "      <td>0</td>\n",
       "    </tr>\n",
       "  </tbody>\n",
       "</table>\n",
       "</div>"
      ],
      "text/plain": [
       "   revol_bal  emp_length    dti  annual_inc  Home_MORTGAGE  Home_OTHER  \\\n",
       "0      10768        10.0  24.31     66000.0              1           0   \n",
       "1      35551         2.0   1.70    110000.0              1           0   \n",
       "2      40836         6.0  19.86     98005.0              1           0   \n",
       "3      25237        10.0  20.01     55000.0              0           0   \n",
       "4      17469        10.0  16.76     71500.0              0           0   \n",
       "\n",
       "   Home_OWN  Home_RENT  verification_Not Verified  \\\n",
       "0         0          0                          1   \n",
       "1         0          0                          0   \n",
       "2         0          0                          1   \n",
       "3         0          1                          1   \n",
       "4         0          1                          0   \n",
       "\n",
       "   verification_Source Verified  verification_Verified  output  \n",
       "0                             0                      0       0  \n",
       "1                             0                      1       0  \n",
       "2                             0                      0       0  \n",
       "3                             0                      0       0  \n",
       "4                             1                      0       0  "
      ]
     },
     "execution_count": 9,
     "metadata": {},
     "output_type": "execute_result"
    }
   ],
   "source": [
    "d1.head()"
   ]
  },
  {
   "cell_type": "markdown",
   "metadata": {},
   "source": [
    "Missing Values consideration"
   ]
  },
  {
   "cell_type": "code",
   "execution_count": 10,
   "metadata": {},
   "outputs": [
    {
     "name": "stdout",
     "output_type": "stream",
     "text": [
      "Current shape of dataset : (58007, 12)\n"
     ]
    }
   ],
   "source": [
    "\n",
    "d1.fillna(d1.mean(),inplace = True)\n",
    "HTML(d1.tail().to_html())\n",
    "print(\"Current shape of dataset :\",d1.shape)"
   ]
  },
  {
   "cell_type": "markdown",
   "metadata": {},
   "source": [
    "Using the standard scalar scaling the columns"
   ]
  },
  {
   "cell_type": "code",
   "execution_count": 11,
   "metadata": {},
   "outputs": [
    {
     "data": {
      "text/plain": [
       "0    47289\n",
       "1    10718\n",
       "Name: output, dtype: int64"
      ]
     },
     "execution_count": 11,
     "metadata": {},
     "output_type": "execute_result"
    }
   ],
   "source": [
    "a = preprocessing.StandardScaler() #instance of preprocessing\n",
    "fields = d1.columns.values[:-1]\n",
    "data_clean = pd.DataFrame(a.fit_transform(d1[fields]), columns = fields)\n",
    "data_clean['output'] = d1['output']\n",
    "data_clean['output'].value_counts()"
   ]
  },
  {
   "cell_type": "markdown",
   "metadata": {},
   "source": [
    "**Defaults occurred on about 25% of loan data instances, so there’s some imbalance in the data.**"
   ]
  },
  {
   "cell_type": "code",
   "execution_count": 12,
   "metadata": {},
   "outputs": [
    {
     "data": {
      "text/html": [
       "<div>\n",
       "<style scoped>\n",
       "    .dataframe tbody tr th:only-of-type {\n",
       "        vertical-align: middle;\n",
       "    }\n",
       "\n",
       "    .dataframe tbody tr th {\n",
       "        vertical-align: top;\n",
       "    }\n",
       "\n",
       "    .dataframe thead th {\n",
       "        text-align: right;\n",
       "    }\n",
       "</style>\n",
       "<table border=\"1\" class=\"dataframe\">\n",
       "  <thead>\n",
       "    <tr style=\"text-align: right;\">\n",
       "      <th></th>\n",
       "      <th>revol_bal</th>\n",
       "      <th>emp_length</th>\n",
       "      <th>dti</th>\n",
       "      <th>annual_inc</th>\n",
       "      <th>Home_MORTGAGE</th>\n",
       "      <th>Home_OTHER</th>\n",
       "      <th>Home_OWN</th>\n",
       "      <th>Home_RENT</th>\n",
       "      <th>verification_Not Verified</th>\n",
       "      <th>verification_Source Verified</th>\n",
       "      <th>verification_Verified</th>\n",
       "      <th>output</th>\n",
       "    </tr>\n",
       "  </thead>\n",
       "  <tbody>\n",
       "    <tr>\n",
       "      <th>0</th>\n",
       "      <td>-0.243148</td>\n",
       "      <td>1.196351</td>\n",
       "      <td>0.999387</td>\n",
       "      <td>-0.118426</td>\n",
       "      <td>1.010833</td>\n",
       "      <td>-0.031637</td>\n",
       "      <td>-0.308302</td>\n",
       "      <td>-0.846756</td>\n",
       "      <td>1.390183</td>\n",
       "      <td>-0.638057</td>\n",
       "      <td>-0.765829</td>\n",
       "      <td>0</td>\n",
       "    </tr>\n",
       "    <tr>\n",
       "      <th>1</th>\n",
       "      <td>1.066774</td>\n",
       "      <td>-1.141571</td>\n",
       "      <td>-1.902947</td>\n",
       "      <td>0.694372</td>\n",
       "      <td>1.010833</td>\n",
       "      <td>-0.031637</td>\n",
       "      <td>-0.308302</td>\n",
       "      <td>-0.846756</td>\n",
       "      <td>-0.719330</td>\n",
       "      <td>-0.638057</td>\n",
       "      <td>1.305774</td>\n",
       "      <td>0</td>\n",
       "    </tr>\n",
       "    <tr>\n",
       "      <th>2</th>\n",
       "      <td>1.346116</td>\n",
       "      <td>0.027390</td>\n",
       "      <td>0.428162</td>\n",
       "      <td>0.472793</td>\n",
       "      <td>1.010833</td>\n",
       "      <td>-0.031637</td>\n",
       "      <td>-0.308302</td>\n",
       "      <td>-0.846756</td>\n",
       "      <td>1.390183</td>\n",
       "      <td>-0.638057</td>\n",
       "      <td>-0.765829</td>\n",
       "      <td>0</td>\n",
       "    </tr>\n",
       "    <tr>\n",
       "      <th>3</th>\n",
       "      <td>0.521621</td>\n",
       "      <td>1.196351</td>\n",
       "      <td>0.447417</td>\n",
       "      <td>-0.321625</td>\n",
       "      <td>-0.989283</td>\n",
       "      <td>-0.031637</td>\n",
       "      <td>-0.308302</td>\n",
       "      <td>1.180977</td>\n",
       "      <td>1.390183</td>\n",
       "      <td>-0.638057</td>\n",
       "      <td>-0.765829</td>\n",
       "      <td>0</td>\n",
       "    </tr>\n",
       "    <tr>\n",
       "      <th>4</th>\n",
       "      <td>0.111038</td>\n",
       "      <td>1.196351</td>\n",
       "      <td>0.030231</td>\n",
       "      <td>-0.016826</td>\n",
       "      <td>-0.989283</td>\n",
       "      <td>-0.031637</td>\n",
       "      <td>-0.308302</td>\n",
       "      <td>1.180977</td>\n",
       "      <td>-0.719330</td>\n",
       "      <td>1.567257</td>\n",
       "      <td>-0.765829</td>\n",
       "      <td>0</td>\n",
       "    </tr>\n",
       "  </tbody>\n",
       "</table>\n",
       "</div>"
      ],
      "text/plain": [
       "   revol_bal  emp_length       dti  annual_inc  Home_MORTGAGE  Home_OTHER  \\\n",
       "0  -0.243148    1.196351  0.999387   -0.118426       1.010833   -0.031637   \n",
       "1   1.066774   -1.141571 -1.902947    0.694372       1.010833   -0.031637   \n",
       "2   1.346116    0.027390  0.428162    0.472793       1.010833   -0.031637   \n",
       "3   0.521621    1.196351  0.447417   -0.321625      -0.989283   -0.031637   \n",
       "4   0.111038    1.196351  0.030231   -0.016826      -0.989283   -0.031637   \n",
       "\n",
       "   Home_OWN  Home_RENT  verification_Not Verified  \\\n",
       "0 -0.308302  -0.846756                   1.390183   \n",
       "1 -0.308302  -0.846756                  -0.719330   \n",
       "2 -0.308302  -0.846756                   1.390183   \n",
       "3 -0.308302   1.180977                   1.390183   \n",
       "4 -0.308302   1.180977                  -0.719330   \n",
       "\n",
       "   verification_Source Verified  verification_Verified  output  \n",
       "0                     -0.638057              -0.765829       0  \n",
       "1                     -0.638057               1.305774       0  \n",
       "2                     -0.638057              -0.765829       0  \n",
       "3                     -0.638057              -0.765829       0  \n",
       "4                      1.567257              -0.765829       0  "
      ]
     },
     "execution_count": 12,
     "metadata": {},
     "output_type": "execute_result"
    }
   ],
   "source": [
    "data_clean.head()"
   ]
  },
  {
   "cell_type": "markdown",
   "metadata": {},
   "source": [
    "**Above data is the scaled data ready for the final model**"
   ]
  },
  {
   "cell_type": "markdown",
   "metadata": {},
   "source": [
    "# Correlation visualization"
   ]
  },
  {
   "cell_type": "code",
   "execution_count": 13,
   "metadata": {},
   "outputs": [
    {
     "data": {
      "text/html": [
       "<div>\n",
       "<style scoped>\n",
       "    .dataframe tbody tr th:only-of-type {\n",
       "        vertical-align: middle;\n",
       "    }\n",
       "\n",
       "    .dataframe tbody tr th {\n",
       "        vertical-align: top;\n",
       "    }\n",
       "\n",
       "    .dataframe thead th {\n",
       "        text-align: right;\n",
       "    }\n",
       "</style>\n",
       "<table border=\"1\" class=\"dataframe\">\n",
       "  <thead>\n",
       "    <tr style=\"text-align: right;\">\n",
       "      <th></th>\n",
       "      <th>revol_bal</th>\n",
       "      <th>emp_length</th>\n",
       "      <th>dti</th>\n",
       "      <th>annual_inc</th>\n",
       "      <th>Home_MORTGAGE</th>\n",
       "      <th>Home_OTHER</th>\n",
       "      <th>Home_OWN</th>\n",
       "      <th>Home_RENT</th>\n",
       "      <th>verification_Not Verified</th>\n",
       "      <th>verification_Source Verified</th>\n",
       "      <th>verification_Verified</th>\n",
       "      <th>output</th>\n",
       "    </tr>\n",
       "  </thead>\n",
       "  <tbody>\n",
       "    <tr>\n",
       "      <th>revol_bal</th>\n",
       "      <td>1.000000</td>\n",
       "      <td>0.097097</td>\n",
       "      <td>0.152808</td>\n",
       "      <td>0.329534</td>\n",
       "      <td>0.171062</td>\n",
       "      <td>-0.002065</td>\n",
       "      <td>-0.004011</td>\n",
       "      <td>-0.171002</td>\n",
       "      <td>-0.109103</td>\n",
       "      <td>-0.004433</td>\n",
       "      <td>0.111307</td>\n",
       "      <td>-0.004482</td>\n",
       "    </tr>\n",
       "    <tr>\n",
       "      <th>emp_length</th>\n",
       "      <td>0.097097</td>\n",
       "      <td>1.000000</td>\n",
       "      <td>0.052824</td>\n",
       "      <td>0.081360</td>\n",
       "      <td>0.204509</td>\n",
       "      <td>-0.013176</td>\n",
       "      <td>0.011052</td>\n",
       "      <td>-0.212798</td>\n",
       "      <td>-0.073809</td>\n",
       "      <td>-0.011091</td>\n",
       "      <td>0.082901</td>\n",
       "      <td>0.003644</td>\n",
       "    </tr>\n",
       "    <tr>\n",
       "      <th>dti</th>\n",
       "      <td>0.152808</td>\n",
       "      <td>0.052824</td>\n",
       "      <td>1.000000</td>\n",
       "      <td>-0.182119</td>\n",
       "      <td>-0.005049</td>\n",
       "      <td>-0.003112</td>\n",
       "      <td>0.026983</td>\n",
       "      <td>-0.010086</td>\n",
       "      <td>-0.114682</td>\n",
       "      <td>-0.015375</td>\n",
       "      <td>0.127064</td>\n",
       "      <td>0.118706</td>\n",
       "    </tr>\n",
       "    <tr>\n",
       "      <th>annual_inc</th>\n",
       "      <td>0.329534</td>\n",
       "      <td>0.081360</td>\n",
       "      <td>-0.182119</td>\n",
       "      <td>1.000000</td>\n",
       "      <td>0.193238</td>\n",
       "      <td>-0.003855</td>\n",
       "      <td>-0.046135</td>\n",
       "      <td>-0.169321</td>\n",
       "      <td>-0.121855</td>\n",
       "      <td>0.049620</td>\n",
       "      <td>0.073054</td>\n",
       "      <td>-0.066653</td>\n",
       "    </tr>\n",
       "    <tr>\n",
       "      <th>Home_MORTGAGE</th>\n",
       "      <td>0.171062</td>\n",
       "      <td>0.204509</td>\n",
       "      <td>-0.005049</td>\n",
       "      <td>0.193238</td>\n",
       "      <td>1.000000</td>\n",
       "      <td>-0.031298</td>\n",
       "      <td>-0.304998</td>\n",
       "      <td>-0.837681</td>\n",
       "      <td>-0.070878</td>\n",
       "      <td>-0.022667</td>\n",
       "      <td>0.090897</td>\n",
       "      <td>-0.045688</td>\n",
       "    </tr>\n",
       "    <tr>\n",
       "      <th>Home_OTHER</th>\n",
       "      <td>-0.002065</td>\n",
       "      <td>-0.013176</td>\n",
       "      <td>-0.003112</td>\n",
       "      <td>-0.003855</td>\n",
       "      <td>-0.031298</td>\n",
       "      <td>1.000000</td>\n",
       "      <td>-0.009754</td>\n",
       "      <td>-0.026789</td>\n",
       "      <td>0.010612</td>\n",
       "      <td>-0.012969</td>\n",
       "      <td>0.001761</td>\n",
       "      <td>-0.001007</td>\n",
       "    </tr>\n",
       "    <tr>\n",
       "      <th>Home_OWN</th>\n",
       "      <td>-0.004011</td>\n",
       "      <td>0.011052</td>\n",
       "      <td>0.026983</td>\n",
       "      <td>-0.046135</td>\n",
       "      <td>-0.304998</td>\n",
       "      <td>-0.009754</td>\n",
       "      <td>1.000000</td>\n",
       "      <td>-0.261057</td>\n",
       "      <td>-0.003604</td>\n",
       "      <td>0.017587</td>\n",
       "      <td>-0.012981</td>\n",
       "      <td>-0.004626</td>\n",
       "    </tr>\n",
       "    <tr>\n",
       "      <th>Home_RENT</th>\n",
       "      <td>-0.171002</td>\n",
       "      <td>-0.212798</td>\n",
       "      <td>-0.010086</td>\n",
       "      <td>-0.169321</td>\n",
       "      <td>-0.837681</td>\n",
       "      <td>-0.026789</td>\n",
       "      <td>-0.261057</td>\n",
       "      <td>1.000000</td>\n",
       "      <td>0.073234</td>\n",
       "      <td>0.013771</td>\n",
       "      <td>-0.084854</td>\n",
       "      <td>0.049024</td>\n",
       "    </tr>\n",
       "    <tr>\n",
       "      <th>verification_Not Verified</th>\n",
       "      <td>-0.109103</td>\n",
       "      <td>-0.073809</td>\n",
       "      <td>-0.114682</td>\n",
       "      <td>-0.121855</td>\n",
       "      <td>-0.070878</td>\n",
       "      <td>0.010612</td>\n",
       "      <td>-0.003604</td>\n",
       "      <td>0.073234</td>\n",
       "      <td>1.000000</td>\n",
       "      <td>-0.458974</td>\n",
       "      <td>-0.550884</td>\n",
       "      <td>-0.065007</td>\n",
       "    </tr>\n",
       "    <tr>\n",
       "      <th>verification_Source Verified</th>\n",
       "      <td>-0.004433</td>\n",
       "      <td>-0.011091</td>\n",
       "      <td>-0.015375</td>\n",
       "      <td>0.049620</td>\n",
       "      <td>-0.022667</td>\n",
       "      <td>-0.012969</td>\n",
       "      <td>0.017587</td>\n",
       "      <td>0.013771</td>\n",
       "      <td>-0.458974</td>\n",
       "      <td>1.000000</td>\n",
       "      <td>-0.488643</td>\n",
       "      <td>0.007248</td>\n",
       "    </tr>\n",
       "    <tr>\n",
       "      <th>verification_Verified</th>\n",
       "      <td>0.111307</td>\n",
       "      <td>0.082901</td>\n",
       "      <td>0.127064</td>\n",
       "      <td>0.073054</td>\n",
       "      <td>0.090897</td>\n",
       "      <td>0.001761</td>\n",
       "      <td>-0.012981</td>\n",
       "      <td>-0.084854</td>\n",
       "      <td>-0.550884</td>\n",
       "      <td>-0.488643</td>\n",
       "      <td>1.000000</td>\n",
       "      <td>0.057030</td>\n",
       "    </tr>\n",
       "    <tr>\n",
       "      <th>output</th>\n",
       "      <td>-0.004482</td>\n",
       "      <td>0.003644</td>\n",
       "      <td>0.118706</td>\n",
       "      <td>-0.066653</td>\n",
       "      <td>-0.045688</td>\n",
       "      <td>-0.001007</td>\n",
       "      <td>-0.004626</td>\n",
       "      <td>0.049024</td>\n",
       "      <td>-0.065007</td>\n",
       "      <td>0.007248</td>\n",
       "      <td>0.057030</td>\n",
       "      <td>1.000000</td>\n",
       "    </tr>\n",
       "  </tbody>\n",
       "</table>\n",
       "</div>"
      ],
      "text/plain": [
       "                              revol_bal  emp_length       dti  annual_inc  \\\n",
       "revol_bal                      1.000000    0.097097  0.152808    0.329534   \n",
       "emp_length                     0.097097    1.000000  0.052824    0.081360   \n",
       "dti                            0.152808    0.052824  1.000000   -0.182119   \n",
       "annual_inc                     0.329534    0.081360 -0.182119    1.000000   \n",
       "Home_MORTGAGE                  0.171062    0.204509 -0.005049    0.193238   \n",
       "Home_OTHER                    -0.002065   -0.013176 -0.003112   -0.003855   \n",
       "Home_OWN                      -0.004011    0.011052  0.026983   -0.046135   \n",
       "Home_RENT                     -0.171002   -0.212798 -0.010086   -0.169321   \n",
       "verification_Not Verified     -0.109103   -0.073809 -0.114682   -0.121855   \n",
       "verification_Source Verified  -0.004433   -0.011091 -0.015375    0.049620   \n",
       "verification_Verified          0.111307    0.082901  0.127064    0.073054   \n",
       "output                        -0.004482    0.003644  0.118706   -0.066653   \n",
       "\n",
       "                              Home_MORTGAGE  Home_OTHER  Home_OWN  Home_RENT  \\\n",
       "revol_bal                          0.171062   -0.002065 -0.004011  -0.171002   \n",
       "emp_length                         0.204509   -0.013176  0.011052  -0.212798   \n",
       "dti                               -0.005049   -0.003112  0.026983  -0.010086   \n",
       "annual_inc                         0.193238   -0.003855 -0.046135  -0.169321   \n",
       "Home_MORTGAGE                      1.000000   -0.031298 -0.304998  -0.837681   \n",
       "Home_OTHER                        -0.031298    1.000000 -0.009754  -0.026789   \n",
       "Home_OWN                          -0.304998   -0.009754  1.000000  -0.261057   \n",
       "Home_RENT                         -0.837681   -0.026789 -0.261057   1.000000   \n",
       "verification_Not Verified         -0.070878    0.010612 -0.003604   0.073234   \n",
       "verification_Source Verified      -0.022667   -0.012969  0.017587   0.013771   \n",
       "verification_Verified              0.090897    0.001761 -0.012981  -0.084854   \n",
       "output                            -0.045688   -0.001007 -0.004626   0.049024   \n",
       "\n",
       "                              verification_Not Verified  \\\n",
       "revol_bal                                     -0.109103   \n",
       "emp_length                                    -0.073809   \n",
       "dti                                           -0.114682   \n",
       "annual_inc                                    -0.121855   \n",
       "Home_MORTGAGE                                 -0.070878   \n",
       "Home_OTHER                                     0.010612   \n",
       "Home_OWN                                      -0.003604   \n",
       "Home_RENT                                      0.073234   \n",
       "verification_Not Verified                      1.000000   \n",
       "verification_Source Verified                  -0.458974   \n",
       "verification_Verified                         -0.550884   \n",
       "output                                        -0.065007   \n",
       "\n",
       "                              verification_Source Verified  \\\n",
       "revol_bal                                        -0.004433   \n",
       "emp_length                                       -0.011091   \n",
       "dti                                              -0.015375   \n",
       "annual_inc                                        0.049620   \n",
       "Home_MORTGAGE                                    -0.022667   \n",
       "Home_OTHER                                       -0.012969   \n",
       "Home_OWN                                          0.017587   \n",
       "Home_RENT                                         0.013771   \n",
       "verification_Not Verified                        -0.458974   \n",
       "verification_Source Verified                      1.000000   \n",
       "verification_Verified                            -0.488643   \n",
       "output                                            0.007248   \n",
       "\n",
       "                              verification_Verified    output  \n",
       "revol_bal                                  0.111307 -0.004482  \n",
       "emp_length                                 0.082901  0.003644  \n",
       "dti                                        0.127064  0.118706  \n",
       "annual_inc                                 0.073054 -0.066653  \n",
       "Home_MORTGAGE                              0.090897 -0.045688  \n",
       "Home_OTHER                                 0.001761 -0.001007  \n",
       "Home_OWN                                  -0.012981 -0.004626  \n",
       "Home_RENT                                 -0.084854  0.049024  \n",
       "verification_Not Verified                 -0.550884 -0.065007  \n",
       "verification_Source Verified              -0.488643  0.007248  \n",
       "verification_Verified                      1.000000  0.057030  \n",
       "output                                     0.057030  1.000000  "
      ]
     },
     "execution_count": 13,
     "metadata": {},
     "output_type": "execute_result"
    }
   ],
   "source": [
    "data_clean.corr()"
   ]
  },
  {
   "cell_type": "code",
   "execution_count": 14,
   "metadata": {},
   "outputs": [
    {
     "data": {
      "text/plain": [
       "<matplotlib.axes._subplots.AxesSubplot at 0x1f2801c0400>"
      ]
     },
     "execution_count": 14,
     "metadata": {},
     "output_type": "execute_result"
    },
    {
     "data": {
      "image/png": "[encoded data removed]",
      "text/plain": [
       "<Figure size 720x720 with 2 Axes>"
      ]
     },
     "metadata": {},
     "output_type": "display_data"
    }
   ],
   "source": [
    "Visualize = data_clean\n",
    "sns.set_context(context='notebook')\n",
    "fig, ax = plt.subplots(figsize=(10,10)) \n",
    "corr = Visualize.corr()\n",
    "\n",
    "# Generate a mask for the upper triangle\n",
    "mask = np.zeros_like(corr, dtype=np.bool)\n",
    "mask[np.tril_indices_from(mask)] = True\n",
    "\n",
    "# Generate a custom diverging colormap\n",
    "cmap = sns.diverging_palette(220, 10, as_cmap=True)\n",
    "\n",
    "sns.heatmap(corr, cmap=cmap,linewidths=1, vmin=-1, vmax=1, square=True, cbar=True, center=0, ax=ax, mask=mask)"
   ]
  },
  {
   "cell_type": "markdown",
   "metadata": {},
   "source": [
    "# Oversampling"
   ]
  },
  {
   "cell_type": "code",
   "execution_count": 15,
   "metadata": {},
   "outputs": [],
   "source": [
    "from imblearn.over_sampling import SMOTE"
   ]
  },
  {
   "cell_type": "code",
   "execution_count": 16,
   "metadata": {},
   "outputs": [],
   "source": [
    "\n",
    "\n",
    "X_train, X_test, Y_train, Y_test = train_test_split(data_clean.iloc[:,:-1], data_clean.iloc[:,-1], \n",
    "                                                    test_size=0.2, \n",
    "                                                    random_state=12)\n",
    "\n",
    "# SMOTE algorithm to upsample the default target output instances\n",
    "\n",
    "sm = SMOTE(random_state=12, ratio = 1.0)\n",
    "X_train_res, Y_train_res = sm.fit_sample(X_train, Y_train)"
   ]
  },
  {
   "cell_type": "markdown",
   "metadata": {},
   "source": [
    "**oversampling on the training data, none of the information in the validation data is being used to create synthetic observations. So these results should be generalizable.**"
   ]
  },
  {
   "cell_type": "markdown",
   "metadata": {},
   "source": [
    "# Randomn forest"
   ]
  },
  {
   "cell_type": "code",
   "execution_count": 17,
   "metadata": {},
   "outputs": [],
   "source": [
    "from sklearn.grid_search import RandomizedSearchCV\n",
    "rf = RandomForestClassifier(criterion='gini', random_state=0)\n",
    "maxFeatures = range(1,data_clean.shape[1]-1)\n",
    "param_dist = dict(max_features=maxFeatures)\n",
    "rand = RandomizedSearchCV(rf, param_dist, cv=10, scoring='accuracy', n_iter=len(maxFeatures), random_state=10)\n",
    "X=data_clean.iloc[:,:-1].values\n",
    "y=data_clean.iloc[:,-1].values\n",
    "rand.fit(X,y)\n",
    "mean_scores = [result.mean_validation_score for result in rand.grid_scores_]\n"
   ]
  },
  {
   "cell_type": "code",
   "execution_count": 18,
   "metadata": {},
   "outputs": [
    {
     "name": "stdout",
     "output_type": "stream",
     "text": [
      "0.711084295811067\n"
     ]
    }
   ],
   "source": [
    "randomForest = RandomForestClassifier(bootstrap=True,criterion = \"gini\",\n",
    "                                      max_features=rand.best_estimator_.max_features,\n",
    "                                      random_state=0 )\n",
    "randomForest.fit(X_train_res,Y_train_res)\n",
    "rfPredict = randomForest.predict(X_test)\n",
    "rfPredictproba = randomForest.predict_proba(X_test)[:,1] #for ROC curve\n",
    "rfAccuracy = accuracy_score(Y_test,rfPredict)\n",
    "roc_score = metrics.roc_auc_score(Y_test,rfPredict)\n",
    "print(rfAccuracy)"
   ]
  },
  {
   "cell_type": "markdown",
   "metadata": {},
   "source": [
    "# Multilayer Perceptron"
   ]
  },
  {
   "cell_type": "code",
   "execution_count": 21,
   "metadata": {},
   "outputs": [
    {
     "name": "stdout",
     "output_type": "stream",
     "text": [
      "0.8118427857265988\n"
     ]
    }
   ],
   "source": [
    "from sklearn.neural_network import MLPClassifier\n",
    "clf_NN = MLPClassifier(solver='lbfgs', alpha=1e-5,hidden_layer_sizes=(5, 2), random_state=1)\n",
    "clf_NN.fit(X_train,Y_train)     \n",
    "predict_NN = clf_NN.predict(X_test)\n",
    "predictproba_NN = clf_NN.predict_proba(X_test)[:,1]\n",
    "NNAccuracy = accuracy_score(Y_test,predict_NN)\n",
    "print(NNAccuracy)"
   ]
  },
  {
   "cell_type": "markdown",
   "metadata": {},
   "source": [
    "# Logistic Regression"
   ]
  },
  {
   "cell_type": "code",
   "execution_count": 22,
   "metadata": {},
   "outputs": [
    {
     "name": "stdout",
     "output_type": "stream",
     "text": [
      "Best accuracy is 0.8152291964762873\n",
      "LogisticRegression(C=0.001, class_weight=None, dual=False, fit_intercept=True,\n",
      "          intercept_scaling=1, max_iter=100, multi_class='ovr', n_jobs=1,\n",
      "          penalty='l2', random_state=0, solver='liblinear', tol=0.0001,\n",
      "          verbose=0, warm_start=False)\n"
     ]
    }
   ],
   "source": [
    "from sklearn.model_selection import GridSearchCV\n",
    "def cross_validation_best_parameters(model, param_grid):\n",
    "    grid = GridSearchCV(model, param_grid,cv=10, scoring='accuracy')\n",
    "    X=data_clean.iloc[:,:-1].values\n",
    "    y=data_clean.iloc[:,-1].values\n",
    "    grid.fit(X,y)\n",
    "    mean_scores = [result.mean_validation_score for result in grid.grid_scores_]\n",
    "    return mean_scores,grid.best_score_,grid.best_estimator_\n",
    "logreg = linear_model.LogisticRegression(random_state=0)\n",
    "c=[0.001, 0.01, 0.1, 1, 10, 100, 1000]\n",
    "param_grid = dict(C=c)\n",
    "mean_scores,Best_Accuracy, Best_classifier = cross_validation_best_parameters(logreg,param_grid)\n",
    "print(\"Best accuracy is \"+ str(Best_Accuracy))\n",
    "print(Best_classifier)"
   ]
  },
  {
   "cell_type": "code",
   "execution_count": 24,
   "metadata": {},
   "outputs": [
    {
     "name": "stdout",
     "output_type": "stream",
     "text": [
      "Logistic regression accuracy is  0.8118427857265988\n"
     ]
    }
   ],
   "source": [
    "clf_LR = linear_model.LogisticRegression(C=Best_classifier.C)\n",
    "clf_LR.fit(X_train,Y_train)\n",
    "LR_Predict = clf_LR.predict_proba(X_test)[:,1]\n",
    "LR_Predict_bin = clf_LR.predict(X_test)\n",
    "LR_Accuracy = accuracy_score(Y_test,LR_Predict.round())\n",
    "print(\"Logistic regression accuracy is \",LR_Accuracy)"
   ]
  },
  {
   "cell_type": "markdown",
   "metadata": {},
   "source": [
    "# Plotting thr ROC curve and confusion matrix for above used models"
   ]
  },
  {
   "cell_type": "code",
   "execution_count": 25,
   "metadata": {},
   "outputs": [],
   "source": [
    "import seaborn as sns\n",
    "sns.set('talk', 'whitegrid', 'dark', font_scale=1, font='Ricty',rc={\"lines.linewidth\": 2, 'grid.linestyle': '--'})\n",
    "def plotAUC(truth, pred, lab):\n",
    "    fpr, tpr, _ = metrics.roc_curve(truth,pred)\n",
    "    roc_auc = metrics.auc(fpr, tpr)\n",
    "    lw = 2\n",
    "    c = (np.random.rand(), np.random.rand(), np.random.rand())\n",
    "    plt.plot(fpr, tpr, color= c,lw=lw, label= lab +'(AUC = %0.2f)' % roc_auc)\n",
    "    plt.plot([0, 1], [0, 1], color='navy', lw=lw, linestyle='--')\n",
    "    plt.xlim([0.0, 1.0])\n",
    "    plt.ylim([0.0, 1.0])\n",
    "    plt.xlabel('False Positive Rate')\n",
    "    plt.ylabel('True Positive Rate')\n",
    "    plt.title('ROC curve') #Receiver Operating Characteristic \n",
    "    plt.legend(loc=\"lower right\")"
   ]
  },
  {
   "cell_type": "code",
   "execution_count": 33,
   "metadata": {},
   "outputs": [],
   "source": [
    "import itertools\n",
    "from sklearn.metrics import confusion_matrix\n",
    "def plot_confusion_matrix(model, normalize=False): # This function prints and plots the confusion matrix.\n",
    "    cm = confusion_matrix(Y_test, model, labels=[0, 1])\n",
    "    classes=[\"Will Pay\", \"Will Default\"]\n",
    "    cmap = plt.cm.Blues\n",
    "    title = \"Confusion Matrix\"\n",
    "    if normalize:\n",
    "        cm = cm.astype('float') / cm.sum(axis=1)[:, np.newaxis]\n",
    "        cm = np.around(cm, decimals=3)\n",
    "    plt.imshow(cm, interpolation='nearest', cmap=cmap)\n",
    "    plt.title(title)\n",
    "    plt.colorbar()\n",
    "    tick_marks = np.arange(len(classes))\n",
    "    plt.xticks(tick_marks, classes, rotation=45)\n",
    "    plt.yticks(tick_marks, classes)\n",
    "    thresh = cm.max() / 2.\n",
    "    for i, j in itertools.product(range(cm.shape[0]), range(cm.shape[1])):\n",
    "        plt.text(j, i, cm[i, j],\n",
    "                 horizontalalignment=\"center\",\n",
    "                 color=\"white\" if cm[i, j] > thresh else \"black\")\n",
    "    plt.tight_layout()\n",
    "    plt.ylabel('True label')\n",
    "    plt.xlabel('Predicted label')"
   ]
  },
  {
   "cell_type": "markdown",
   "metadata": {},
   "source": [
    "Plotting above models in single function"
   ]
  },
  {
   "cell_type": "code",
   "execution_count": 32,
   "metadata": {},
   "outputs": [
    {
     "data": {
      "image/png": "[encoded data removed]",
      "text/plain": [
       "<Figure size 432x288 with 1 Axes>"
      ]
     },
     "metadata": {},
     "output_type": "display_data"
    }
   ],
   "source": [
    "plotAUC(Y_test,rfPredictproba, 'Random Forest')\n",
    "plotAUC(Y_test,LR_Predict,'Logistic Regression')\n",
    "plotAUC(Y_test,predictproba_NN,'MLP')\n",
    "plt.show()\n"
   ]
  },
  {
   "cell_type": "markdown",
   "metadata": {},
   "source": [
    "# Multi layer perceptron is the best model compared to random fores and Logistic regression"
   ]
  },
  {
   "cell_type": "markdown",
   "metadata": {},
   "source": [
    "# Precision,recall,F1score for all models"
   ]
  },
  {
   "cell_type": "code",
   "execution_count": 35,
   "metadata": {},
   "outputs": [
    {
     "name": "stdout",
     "output_type": "stream",
     "text": [
      "RF              precision    recall  f1-score   support\n",
      "\n",
      "          0       0.82      0.82      0.82      9419\n",
      "          1       0.23      0.23      0.23      2183\n",
      "\n",
      "avg / total       0.71      0.71      0.71     11602\n",
      "\n",
      "LR              precision    recall  f1-score   support\n",
      "\n",
      "          0       0.81      1.00      0.90      9419\n",
      "          1       0.00      0.00      0.00      2183\n",
      "\n",
      "avg / total       0.66      0.81      0.73     11602\n",
      "\n",
      "MLP              precision    recall  f1-score   support\n",
      "\n",
      "          0       0.81      1.00      0.90      9419\n",
      "          1       0.00      0.00      0.00      2183\n",
      "\n",
      "avg / total       0.66      0.81      0.73     11602\n",
      "\n"
     ]
    }
   ],
   "source": [
    "from sklearn.metrics import classification_report\n",
    "print(\"RF\",classification_report(Y_test, rfPredict, target_names=None))\n",
    "print(\"LR\",classification_report(Y_test, LR_Predict_bin, target_names=None))\n",
    "print(\"MLP\",classification_report(Y_test, predict_NN, target_names=None))"
   ]
  },
  {
   "cell_type": "markdown",
   "metadata": {},
   "source": [
    "As per the above visualizations, for the unbalance data set MLP is having high accuracy compared to the other models"
   ]
  },
  {
   "cell_type": "code",
   "execution_count": null,
   "metadata": {},
   "outputs": [],
   "source": []
  }
 ],
 "metadata": {
  "kernelspec": {
   "display_name": "Python 3",
   "language": "python",
   "name": "python3"
  },
  "language_info": {
   "codemirror_mode": {
    "name": "ipython",
    "version": 3
   },
   "file_extension": ".py",
   "mimetype": "text/x-python",
   "name": "python",
   "nbconvert_exporter": "python",
   "pygments_lexer": "ipython3",
   "version": "3.6.2"
  }
 },
 "nbformat": 4,
 "nbformat_minor": 2
}
