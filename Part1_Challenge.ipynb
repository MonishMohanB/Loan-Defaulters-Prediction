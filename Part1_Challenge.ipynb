{
 "cells": [
  {
   "cell_type": "markdown",
   "metadata": {},
   "source": [
    "# Fair Data Challenge"
   ]
  },
  {
   "cell_type": "markdown",
   "metadata": {},
   "source": [
    "In this project, we will analyze a dataset containing historical data on loan borrowers. The goal of this project is to build a predictive model predicting the loan default of potential defaulters."
   ]
  },
  {
   "cell_type": "code",
   "execution_count": 1,
   "metadata": {},
   "outputs": [],
   "source": [
    "# Importing necessary libraries\n",
    "import numpy as np\n",
    "import pandas as pd\n",
    "import matplotlib.pyplot as plt\n",
    "from IPython.display import display \n",
    "\n",
    "%matplotlib inline\n",
    "plt.style.use('dark_background')# for styles\n",
    "\n",
    "\n",
    "# Loading Data from CSV into data frame\n",
    "loan_data = pd.read_csv(\"train_data.csv\", low_memory = False) #low memory to avoid fixed types column error"
   ]
  },
  {
   "cell_type": "code",
   "execution_count": 2,
   "metadata": {},
   "outputs": [
    {
     "data": {
      "text/html": [
       "<div>\n",
       "<style scoped>\n",
       "    .dataframe tbody tr th:only-of-type {\n",
       "        vertical-align: middle;\n",
       "    }\n",
       "\n",
       "    .dataframe tbody tr th {\n",
       "        vertical-align: top;\n",
       "    }\n",
       "\n",
       "    .dataframe thead th {\n",
       "        text-align: right;\n",
       "    }\n",
       "</style>\n",
       "<table border=\"1\" class=\"dataframe\">\n",
       "  <thead>\n",
       "    <tr style=\"text-align: right;\">\n",
       "      <th></th>\n",
       "      <th>id</th>\n",
       "      <th>loan_status</th>\n",
       "      <th>mths_since_last_major_derog</th>\n",
       "      <th>revol_bal</th>\n",
       "      <th>purpose</th>\n",
       "      <th>addr_state</th>\n",
       "      <th>title</th>\n",
       "      <th>home_ownership</th>\n",
       "      <th>application_type</th>\n",
       "      <th>verification_status_joint</th>\n",
       "      <th>earliest_cr_line</th>\n",
       "      <th>apply_date</th>\n",
       "      <th>verification_status</th>\n",
       "      <th>emp_length</th>\n",
       "      <th>dti</th>\n",
       "      <th>emp_title</th>\n",
       "      <th>annual_inc</th>\n",
       "    </tr>\n",
       "  </thead>\n",
       "  <tbody>\n",
       "    <tr>\n",
       "      <th>0</th>\n",
       "      <td>63480419</td>\n",
       "      <td>Current</td>\n",
       "      <td>NaN</td>\n",
       "      <td>15954</td>\n",
       "      <td>debt_consolidation</td>\n",
       "      <td>KS</td>\n",
       "      <td>Debt consolidation</td>\n",
       "      <td>MORTGAGE</td>\n",
       "      <td>INDIVIDUAL</td>\n",
       "      <td>NaN</td>\n",
       "      <td>5-Aug</td>\n",
       "      <td>15-Nov</td>\n",
       "      <td>Not Verified</td>\n",
       "      <td>5 years</td>\n",
       "      <td>24.85</td>\n",
       "      <td>Branch Office Administrator</td>\n",
       "      <td>62000.0</td>\n",
       "    </tr>\n",
       "    <tr>\n",
       "      <th>1</th>\n",
       "      <td>51386490</td>\n",
       "      <td>Current</td>\n",
       "      <td>NaN</td>\n",
       "      <td>73814</td>\n",
       "      <td>debt_consolidation</td>\n",
       "      <td>MD</td>\n",
       "      <td>Debt consolidation</td>\n",
       "      <td>MORTGAGE</td>\n",
       "      <td>INDIVIDUAL</td>\n",
       "      <td>NaN</td>\n",
       "      <td>Sep-83</td>\n",
       "      <td>15-Jun</td>\n",
       "      <td>Verified</td>\n",
       "      <td>10+ years</td>\n",
       "      <td>26.38</td>\n",
       "      <td>IIntelligence Analyst</td>\n",
       "      <td>113000.0</td>\n",
       "    </tr>\n",
       "    <tr>\n",
       "      <th>2</th>\n",
       "      <td>13567696</td>\n",
       "      <td>Current</td>\n",
       "      <td>NaN</td>\n",
       "      <td>30013</td>\n",
       "      <td>major_purchase</td>\n",
       "      <td>TX</td>\n",
       "      <td>Major purchase</td>\n",
       "      <td>OWN</td>\n",
       "      <td>INDIVIDUAL</td>\n",
       "      <td>NaN</td>\n",
       "      <td>Dec-99</td>\n",
       "      <td>14-Apr</td>\n",
       "      <td>Not Verified</td>\n",
       "      <td>10+ years</td>\n",
       "      <td>14.41</td>\n",
       "      <td>Global Service Delivery Lead</td>\n",
       "      <td>180000.0</td>\n",
       "    </tr>\n",
       "    <tr>\n",
       "      <th>3</th>\n",
       "      <td>22252931</td>\n",
       "      <td>Fully Paid</td>\n",
       "      <td>NaN</td>\n",
       "      <td>10768</td>\n",
       "      <td>credit_card</td>\n",
       "      <td>DE</td>\n",
       "      <td>Credit card refinancing</td>\n",
       "      <td>MORTGAGE</td>\n",
       "      <td>INDIVIDUAL</td>\n",
       "      <td>NaN</td>\n",
       "      <td>1-Sep</td>\n",
       "      <td>14-Jul</td>\n",
       "      <td>Not Verified</td>\n",
       "      <td>10+ years</td>\n",
       "      <td>24.31</td>\n",
       "      <td>Operations Manager</td>\n",
       "      <td>66000.0</td>\n",
       "    </tr>\n",
       "    <tr>\n",
       "      <th>4</th>\n",
       "      <td>6539569</td>\n",
       "      <td>Fully Paid</td>\n",
       "      <td>NaN</td>\n",
       "      <td>35551</td>\n",
       "      <td>home_improvement</td>\n",
       "      <td>WI</td>\n",
       "      <td>Home Improvement</td>\n",
       "      <td>MORTGAGE</td>\n",
       "      <td>INDIVIDUAL</td>\n",
       "      <td>NaN</td>\n",
       "      <td>Dec-92</td>\n",
       "      <td>13-Aug</td>\n",
       "      <td>Verified</td>\n",
       "      <td>2 years</td>\n",
       "      <td>1.70</td>\n",
       "      <td>Coram Specialty Infusion</td>\n",
       "      <td>110000.0</td>\n",
       "    </tr>\n",
       "  </tbody>\n",
       "</table>\n",
       "</div>"
      ],
      "text/plain": [
       "         id loan_status  mths_since_last_major_derog  revol_bal  \\\n",
       "0  63480419     Current                          NaN      15954   \n",
       "1  51386490     Current                          NaN      73814   \n",
       "2  13567696     Current                          NaN      30013   \n",
       "3  22252931  Fully Paid                          NaN      10768   \n",
       "4   6539569  Fully Paid                          NaN      35551   \n",
       "\n",
       "              purpose addr_state                    title home_ownership  \\\n",
       "0  debt_consolidation         KS       Debt consolidation       MORTGAGE   \n",
       "1  debt_consolidation         MD       Debt consolidation       MORTGAGE   \n",
       "2      major_purchase         TX           Major purchase            OWN   \n",
       "3         credit_card         DE  Credit card refinancing       MORTGAGE   \n",
       "4    home_improvement         WI        Home Improvement        MORTGAGE   \n",
       "\n",
       "  application_type verification_status_joint earliest_cr_line apply_date  \\\n",
       "0       INDIVIDUAL                       NaN            5-Aug     15-Nov   \n",
       "1       INDIVIDUAL                       NaN           Sep-83     15-Jun   \n",
       "2       INDIVIDUAL                       NaN           Dec-99     14-Apr   \n",
       "3       INDIVIDUAL                       NaN            1-Sep     14-Jul   \n",
       "4       INDIVIDUAL                       NaN           Dec-92     13-Aug   \n",
       "\n",
       "  verification_status emp_length    dti                     emp_title  \\\n",
       "0        Not Verified    5 years  24.85   Branch Office Administrator   \n",
       "1            Verified  10+ years  26.38         IIntelligence Analyst   \n",
       "2        Not Verified  10+ years  14.41  Global Service Delivery Lead   \n",
       "3        Not Verified  10+ years  24.31            Operations Manager   \n",
       "4            Verified    2 years   1.70      Coram Specialty Infusion   \n",
       "\n",
       "   annual_inc  \n",
       "0     62000.0  \n",
       "1    113000.0  \n",
       "2    180000.0  \n",
       "3     66000.0  \n",
       "4    110000.0  "
      ]
     },
     "execution_count": 2,
     "metadata": {},
     "output_type": "execute_result"
    }
   ],
   "source": [
    "loan_data.head()"
   ]
  },
  {
   "cell_type": "code",
   "execution_count": 3,
   "metadata": {},
   "outputs": [
    {
     "data": {
      "text/plain": [
       "(200000, 17)"
      ]
     },
     "execution_count": 3,
     "metadata": {},
     "output_type": "execute_result"
    }
   ],
   "source": [
    "loan_data.shape"
   ]
  },
  {
   "cell_type": "markdown",
   "metadata": {},
   "source": [
    "# Question 1:  \n",
    "\n",
    "Perform any data cleaning and exploratory analysis that you feel is appropriate.Summarize your approach in a few sentences and report some interesting facts about the population in the data.\n",
    "\n",
    "**Approach for the above problem**\n",
    "\n",
    "- Cleanned variables and converted to the required format\n",
    "- Dropped categorical vairables which added no value to prediction\n",
    "- Dropped vairables with more than 80% missing values\n",
    "- Checked for correlation and skewness\n",
    "- Performed feature engineering\n",
    "- Identified important variables using random forest\n",
    "- One hot encoded categorical variables"
   ]
  },
  {
   "cell_type": "code",
   "execution_count": 4,
   "metadata": {},
   "outputs": [
    {
     "data": {
      "text/html": [
       "<div>\n",
       "<style scoped>\n",
       "    .dataframe tbody tr th:only-of-type {\n",
       "        vertical-align: middle;\n",
       "    }\n",
       "\n",
       "    .dataframe tbody tr th {\n",
       "        vertical-align: top;\n",
       "    }\n",
       "\n",
       "    .dataframe thead th {\n",
       "        text-align: right;\n",
       "    }\n",
       "</style>\n",
       "<table border=\"1\" class=\"dataframe\">\n",
       "  <thead>\n",
       "    <tr style=\"text-align: right;\">\n",
       "      <th></th>\n",
       "      <th>id</th>\n",
       "      <th>mths_since_last_major_derog</th>\n",
       "      <th>revol_bal</th>\n",
       "      <th>dti</th>\n",
       "      <th>annual_inc</th>\n",
       "    </tr>\n",
       "  </thead>\n",
       "  <tbody>\n",
       "    <tr>\n",
       "      <th>count</th>\n",
       "      <td>2.000000e+05</td>\n",
       "      <td>49745.000000</td>\n",
       "      <td>2.000000e+05</td>\n",
       "      <td>200000.000000</td>\n",
       "      <td>1.999980e+05</td>\n",
       "    </tr>\n",
       "    <tr>\n",
       "      <th>mean</th>\n",
       "      <td>3.243004e+07</td>\n",
       "      <td>44.136134</td>\n",
       "      <td>1.692455e+04</td>\n",
       "      <td>18.146953</td>\n",
       "      <td>7.519197e+04</td>\n",
       "    </tr>\n",
       "    <tr>\n",
       "      <th>std</th>\n",
       "      <td>2.282037e+07</td>\n",
       "      <td>22.258667</td>\n",
       "      <td>2.165016e+04</td>\n",
       "      <td>23.809379</td>\n",
       "      <td>6.343685e+04</td>\n",
       "    </tr>\n",
       "    <tr>\n",
       "      <th>min</th>\n",
       "      <td>5.574200e+04</td>\n",
       "      <td>0.000000</td>\n",
       "      <td>0.000000e+00</td>\n",
       "      <td>0.000000</td>\n",
       "      <td>0.000000e+00</td>\n",
       "    </tr>\n",
       "    <tr>\n",
       "      <th>25%</th>\n",
       "      <td>9.197932e+06</td>\n",
       "      <td>27.000000</td>\n",
       "      <td>6.440000e+03</td>\n",
       "      <td>11.890000</td>\n",
       "      <td>4.500000e+04</td>\n",
       "    </tr>\n",
       "    <tr>\n",
       "      <th>50%</th>\n",
       "      <td>3.441335e+07</td>\n",
       "      <td>44.000000</td>\n",
       "      <td>1.188600e+04</td>\n",
       "      <td>17.620000</td>\n",
       "      <td>6.500000e+04</td>\n",
       "    </tr>\n",
       "    <tr>\n",
       "      <th>75%</th>\n",
       "      <td>5.488857e+07</td>\n",
       "      <td>62.000000</td>\n",
       "      <td>2.084525e+04</td>\n",
       "      <td>23.890000</td>\n",
       "      <td>9.000000e+04</td>\n",
       "    </tr>\n",
       "    <tr>\n",
       "      <th>max</th>\n",
       "      <td>6.861676e+07</td>\n",
       "      <td>180.000000</td>\n",
       "      <td>1.190046e+06</td>\n",
       "      <td>9999.000000</td>\n",
       "      <td>7.500000e+06</td>\n",
       "    </tr>\n",
       "  </tbody>\n",
       "</table>\n",
       "</div>"
      ],
      "text/plain": [
       "                 id  mths_since_last_major_derog     revol_bal            dti  \\\n",
       "count  2.000000e+05                 49745.000000  2.000000e+05  200000.000000   \n",
       "mean   3.243004e+07                    44.136134  1.692455e+04      18.146953   \n",
       "std    2.282037e+07                    22.258667  2.165016e+04      23.809379   \n",
       "min    5.574200e+04                     0.000000  0.000000e+00       0.000000   \n",
       "25%    9.197932e+06                    27.000000  6.440000e+03      11.890000   \n",
       "50%    3.441335e+07                    44.000000  1.188600e+04      17.620000   \n",
       "75%    5.488857e+07                    62.000000  2.084525e+04      23.890000   \n",
       "max    6.861676e+07                   180.000000  1.190046e+06    9999.000000   \n",
       "\n",
       "         annual_inc  \n",
       "count  1.999980e+05  \n",
       "mean   7.519197e+04  \n",
       "std    6.343685e+04  \n",
       "min    0.000000e+00  \n",
       "25%    4.500000e+04  \n",
       "50%    6.500000e+04  \n",
       "75%    9.000000e+04  \n",
       "max    7.500000e+06  "
      ]
     },
     "execution_count": 4,
     "metadata": {},
     "output_type": "execute_result"
    }
   ],
   "source": [
    "loan_data.describe()"
   ]
  },
  {
   "cell_type": "markdown",
   "metadata": {},
   "source": [
    "**Target Variable Cleaning**\n",
    "\n",
    "loan_status is the target variable in our problem."
   ]
  },
  {
   "cell_type": "code",
   "execution_count": 5,
   "metadata": {},
   "outputs": [
    {
     "data": {
      "text/plain": [
       "loan_status\n",
       "Charged Off                                             10270\n",
       "Current                                                135528\n",
       "Default                                                   288\n",
       "Does not meet the credit policy. Status:Charged Off       160\n",
       "Does not meet the credit policy. Status:Fully Paid        452\n",
       "Fully Paid                                              46837\n",
       "In Grace Period                                          1411\n",
       "Issued                                                   1919\n",
       "Late (16-30 days)                                         509\n",
       "Late (31-120 days)                                       2626\n",
       "dtype: int64"
      ]
     },
     "execution_count": 5,
     "metadata": {},
     "output_type": "execute_result"
    }
   ],
   "source": [
    "statusByType = loan_data.groupby('loan_status').size()\n",
    "statusByType"
   ]
  },
  {
   "cell_type": "code",
   "execution_count": 24,
   "metadata": {},
   "outputs": [
    {
     "data": {
      "text/plain": [
       "<matplotlib.axes._subplots.AxesSubplot at 0x139aee740b8>"
      ]
     },
     "execution_count": 24,
     "metadata": {},
     "output_type": "execute_result"
    },
    {
     "data": {
      "image/png": "[encoded data removed]",
      "text/plain": [
       "<Figure size 720x360 with 1 Axes>"
      ]
     },
     "metadata": {},
     "output_type": "display_data"
    }
   ],
   "source": [
    "plot=[]\n",
    "plot.append(10) # nubmer of possible target variables\n",
    "plot.append(5) # split in the Y axis\n",
    "plt.rcParams[\"figure.figsize\"] = plot\n",
    "statusByType.plot(kind='bar')\n"
   ]
  },
  {
   "cell_type": "markdown",
   "metadata": {},
   "source": [
    "As our aim is to predict the defaulters, the target variable which is not used in our prediction model are about to get removed from the instances.\n",
    "\n",
    "So, we are removing the instances with target output\n",
    "* Current\n",
    "* Issued\n",
    "* Late"
   ]
  },
  {
   "cell_type": "code",
   "execution_count": 7,
   "metadata": {},
   "outputs": [
    {
     "data": {
      "text/plain": [
       "loan_status\n",
       "Charged Off                                            10270\n",
       "Default                                                  288\n",
       "Does not meet the credit policy. Status:Charged Off      160\n",
       "Does not meet the credit policy. Status:Fully Paid       452\n",
       "Fully Paid                                             46837\n",
       "dtype: int64"
      ]
     },
     "execution_count": 7,
     "metadata": {},
     "output_type": "execute_result"
    }
   ],
   "source": [
    "filter_data= loan_data['loan_status'].isin(['Default', 'Charged Off', 'Does not meet the credit policy. Status:Charged Off',\n",
    "                                        'Does not meet the credit policy. Status:Fully Paid', 'Fully Paid'])\n",
    "loan_new_data = loan_data[filter_data]\n",
    "loan_new_data.groupby('loan_status').size()"
   ]
  },
  {
   "cell_type": "markdown",
   "metadata": {},
   "source": [
    "Now seperating the entire category into two \n",
    "**Defaulters and Non-Defaulters**"
   ]
  },
  {
   "cell_type": "code",
   "execution_count": 8,
   "metadata": {},
   "outputs": [
    {
     "name": "stderr",
     "output_type": "stream",
     "text": [
      "c:\\users\\monis\\appdata\\local\\programs\\python\\python36\\lib\\site-packages\\ipykernel_launcher.py:2: SettingWithCopyWarning: \n",
      "A value is trying to be set on a copy of a slice from a DataFrame.\n",
      "Try using .loc[row_indexer,col_indexer] = value instead\n",
      "\n",
      "See the caveats in the documentation: http://pandas.pydata.org/pandas-docs/stable/indexing.html#indexing-view-versus-copy\n",
      "  \n"
     ]
    },
    {
     "data": {
      "text/plain": [
       "output\n",
       "Defaulters        10718\n",
       "Non-Defaulters    47289\n",
       "dtype: int64"
      ]
     },
     "execution_count": 8,
     "metadata": {},
     "output_type": "execute_result"
    }
   ],
   "source": [
    "loan_new_data['output'] = np.where(loan_new_data['loan_status'].isin(['Default', 'Charged Off',\n",
    "                                                                      'Does not meet the credit policy. Status:Charged Off']),'Defaulters', 'Non-Defaulters')\n",
    "output=loan_new_data.groupby('output').size()\n",
    "output"
   ]
  },
  {
   "cell_type": "code",
   "execution_count": 9,
   "metadata": {},
   "outputs": [
    {
     "data": {
      "text/plain": [
       "array(['INDIVIDUAL'], dtype=object)"
      ]
     },
     "execution_count": 9,
     "metadata": {},
     "output_type": "execute_result"
    },
    {
     "data": {
      "image/png": "[encoded data removed]",
      "text/plain": [
       "<Figure size 144x360 with 1 Axes>"
      ]
     },
     "metadata": {},
     "output_type": "display_data"
    }
   ],
   "source": [
    "plot=[]\n",
    "plot.append(2) # nubmer of possible target variables\n",
    "plot.append(5) # split in the Y axis\n",
    "plt.rcParams[\"figure.figsize\"] = plot\n",
    "output.plot(kind='bar')\n",
    "loan_new_data[\"application_type\"].unique()"
   ]
  },
  {
   "cell_type": "markdown",
   "metadata": {},
   "source": [
    "Now we will considering about the **Missing Values**"
   ]
  },
  {
   "cell_type": "code",
   "execution_count": 10,
   "metadata": {},
   "outputs": [
    {
     "data": {
      "text/plain": [
       "id                                 0\n",
       "loan_status                        0\n",
       "mths_since_last_major_derog    47390\n",
       "revol_bal                          0\n",
       "purpose                            0\n",
       "addr_state                         0\n",
       "title                              3\n",
       "home_ownership                     0\n",
       "application_type                   0\n",
       "verification_status_joint      58007\n",
       "earliest_cr_line                  11\n",
       "apply_date                         0\n",
       "verification_status                0\n",
       "emp_length                      2301\n",
       "dti                                0\n",
       "emp_title                       3247\n",
       "annual_inc                         2\n",
       "output                             0\n",
       "dtype: int64"
      ]
     },
     "execution_count": 10,
     "metadata": {},
     "output_type": "execute_result"
    }
   ],
   "source": [
    "loan_new_data.isnull().sum()"
   ]
  },
  {
   "cell_type": "code",
   "execution_count": 11,
   "metadata": {},
   "outputs": [
    {
     "data": {
      "text/plain": [
       "(58007, 18)"
      ]
     },
     "execution_count": 11,
     "metadata": {},
     "output_type": "execute_result"
    }
   ],
   "source": [
    "loan_new_data.shape"
   ]
  },
  {
   "cell_type": "markdown",
   "metadata": {},
   "source": [
    "Creating the below function to remove the features having more than 80% of NA values"
   ]
  },
  {
   "cell_type": "code",
   "execution_count": 12,
   "metadata": {},
   "outputs": [],
   "source": [
    "def dropMoreNA(dataframe):\n",
    "    t = dataframe\n",
    "    columnsRemoved = []\n",
    "    column_names = t.columns.values\n",
    "    for i in column_names:\n",
    "        try:\n",
    "            if t[i].isnull().sum() > 46000: \n",
    "                columnsRemoved.append(i)\n",
    "                t.drop(labels=i, axis=1, inplace=True)\n",
    "        except ValueError:\n",
    "            pass\n",
    "    return t, columnsRemoved"
   ]
  },
  {
   "cell_type": "code",
   "execution_count": 13,
   "metadata": {},
   "outputs": [
    {
     "name": "stderr",
     "output_type": "stream",
     "text": [
      "c:\\users\\monis\\appdata\\local\\programs\\python\\python36\\lib\\site-packages\\pandas\\core\\frame.py:3697: SettingWithCopyWarning: \n",
      "A value is trying to be set on a copy of a slice from a DataFrame\n",
      "\n",
      "See the caveats in the documentation: http://pandas.pydata.org/pandas-docs/stable/indexing.html#indexing-view-versus-copy\n",
      "  errors=errors)\n"
     ]
    },
    {
     "data": {
      "text/plain": [
       "(58007, 16)"
      ]
     },
     "execution_count": 13,
     "metadata": {},
     "output_type": "execute_result"
    }
   ],
   "source": [
    "loan_new_data, dropped_Columns = dropMoreNA(loan_new_data)\n",
    "loan_new_data.shape"
   ]
  },
  {
   "cell_type": "code",
   "execution_count": 14,
   "metadata": {},
   "outputs": [
    {
     "data": {
      "text/plain": [
       "['mths_since_last_major_derog', 'verification_status_joint']"
      ]
     },
     "execution_count": 14,
     "metadata": {},
     "output_type": "execute_result"
    }
   ],
   "source": [
    "dropped_Columns"
   ]
  },
  {
   "cell_type": "code",
   "execution_count": 15,
   "metadata": {},
   "outputs": [
    {
     "data": {
      "text/html": [
       "<div>\n",
       "<style scoped>\n",
       "    .dataframe tbody tr th:only-of-type {\n",
       "        vertical-align: middle;\n",
       "    }\n",
       "\n",
       "    .dataframe tbody tr th {\n",
       "        vertical-align: top;\n",
       "    }\n",
       "\n",
       "    .dataframe thead th {\n",
       "        text-align: right;\n",
       "    }\n",
       "</style>\n",
       "<table border=\"1\" class=\"dataframe\">\n",
       "  <thead>\n",
       "    <tr style=\"text-align: right;\">\n",
       "      <th></th>\n",
       "      <th>id</th>\n",
       "      <th>loan_status</th>\n",
       "      <th>revol_bal</th>\n",
       "      <th>purpose</th>\n",
       "      <th>addr_state</th>\n",
       "      <th>title</th>\n",
       "      <th>home_ownership</th>\n",
       "      <th>application_type</th>\n",
       "      <th>earliest_cr_line</th>\n",
       "      <th>apply_date</th>\n",
       "      <th>verification_status</th>\n",
       "      <th>emp_length</th>\n",
       "      <th>dti</th>\n",
       "      <th>emp_title</th>\n",
       "      <th>annual_inc</th>\n",
       "      <th>output</th>\n",
       "    </tr>\n",
       "  </thead>\n",
       "  <tbody>\n",
       "    <tr>\n",
       "      <th>3</th>\n",
       "      <td>22252931</td>\n",
       "      <td>Fully Paid</td>\n",
       "      <td>10768</td>\n",
       "      <td>credit_card</td>\n",
       "      <td>DE</td>\n",
       "      <td>Credit card refinancing</td>\n",
       "      <td>MORTGAGE</td>\n",
       "      <td>INDIVIDUAL</td>\n",
       "      <td>1-Sep</td>\n",
       "      <td>14-Jul</td>\n",
       "      <td>Not Verified</td>\n",
       "      <td>10+ years</td>\n",
       "      <td>24.31</td>\n",
       "      <td>Operations Manager</td>\n",
       "      <td>66000.0</td>\n",
       "      <td>Non-Defaulters</td>\n",
       "    </tr>\n",
       "    <tr>\n",
       "      <th>4</th>\n",
       "      <td>6539569</td>\n",
       "      <td>Fully Paid</td>\n",
       "      <td>35551</td>\n",
       "      <td>home_improvement</td>\n",
       "      <td>WI</td>\n",
       "      <td>Home Improvement</td>\n",
       "      <td>MORTGAGE</td>\n",
       "      <td>INDIVIDUAL</td>\n",
       "      <td>Dec-92</td>\n",
       "      <td>13-Aug</td>\n",
       "      <td>Verified</td>\n",
       "      <td>2 years</td>\n",
       "      <td>1.70</td>\n",
       "      <td>Coram Specialty Infusion</td>\n",
       "      <td>110000.0</td>\n",
       "      <td>Non-Defaulters</td>\n",
       "    </tr>\n",
       "    <tr>\n",
       "      <th>7</th>\n",
       "      <td>7047928</td>\n",
       "      <td>Fully Paid</td>\n",
       "      <td>40836</td>\n",
       "      <td>debt_consolidation</td>\n",
       "      <td>OH</td>\n",
       "      <td>Debt Consolidation</td>\n",
       "      <td>MORTGAGE</td>\n",
       "      <td>INDIVIDUAL</td>\n",
       "      <td>Jun-99</td>\n",
       "      <td>13-Sep</td>\n",
       "      <td>Not Verified</td>\n",
       "      <td>6 years</td>\n",
       "      <td>19.86</td>\n",
       "      <td>STERIS</td>\n",
       "      <td>98005.0</td>\n",
       "      <td>Non-Defaulters</td>\n",
       "    </tr>\n",
       "    <tr>\n",
       "      <th>9</th>\n",
       "      <td>1060578</td>\n",
       "      <td>Fully Paid</td>\n",
       "      <td>25237</td>\n",
       "      <td>debt_consolidation</td>\n",
       "      <td>RI</td>\n",
       "      <td>debt</td>\n",
       "      <td>RENT</td>\n",
       "      <td>INDIVIDUAL</td>\n",
       "      <td>4-Jun</td>\n",
       "      <td>11-Dec</td>\n",
       "      <td>Not Verified</td>\n",
       "      <td>10+ years</td>\n",
       "      <td>20.01</td>\n",
       "      <td>citizens bank</td>\n",
       "      <td>55000.0</td>\n",
       "      <td>Non-Defaulters</td>\n",
       "    </tr>\n",
       "    <tr>\n",
       "      <th>10</th>\n",
       "      <td>28604357</td>\n",
       "      <td>Fully Paid</td>\n",
       "      <td>17469</td>\n",
       "      <td>debt_consolidation</td>\n",
       "      <td>SD</td>\n",
       "      <td>Debt consolidation</td>\n",
       "      <td>RENT</td>\n",
       "      <td>INDIVIDUAL</td>\n",
       "      <td>Jul-96</td>\n",
       "      <td>14-Oct</td>\n",
       "      <td>Source Verified</td>\n",
       "      <td>10+ years</td>\n",
       "      <td>16.76</td>\n",
       "      <td>Sr. Research Analyst</td>\n",
       "      <td>71500.0</td>\n",
       "      <td>Non-Defaulters</td>\n",
       "    </tr>\n",
       "  </tbody>\n",
       "</table>\n",
       "</div>"
      ],
      "text/plain": [
       "          id loan_status  revol_bal             purpose addr_state  \\\n",
       "3   22252931  Fully Paid      10768         credit_card         DE   \n",
       "4    6539569  Fully Paid      35551    home_improvement         WI   \n",
       "7    7047928  Fully Paid      40836  debt_consolidation         OH   \n",
       "9    1060578  Fully Paid      25237  debt_consolidation         RI   \n",
       "10  28604357  Fully Paid      17469  debt_consolidation         SD   \n",
       "\n",
       "                      title home_ownership application_type earliest_cr_line  \\\n",
       "3   Credit card refinancing       MORTGAGE       INDIVIDUAL            1-Sep   \n",
       "4         Home Improvement        MORTGAGE       INDIVIDUAL           Dec-92   \n",
       "7        Debt Consolidation       MORTGAGE       INDIVIDUAL           Jun-99   \n",
       "9                      debt           RENT       INDIVIDUAL            4-Jun   \n",
       "10       Debt consolidation           RENT       INDIVIDUAL           Jul-96   \n",
       "\n",
       "   apply_date verification_status emp_length    dti                 emp_title  \\\n",
       "3      14-Jul        Not Verified  10+ years  24.31        Operations Manager   \n",
       "4      13-Aug            Verified    2 years   1.70  Coram Specialty Infusion   \n",
       "7      13-Sep        Not Verified    6 years  19.86                    STERIS   \n",
       "9      11-Dec        Not Verified  10+ years  20.01             citizens bank   \n",
       "10     14-Oct     Source Verified  10+ years  16.76      Sr. Research Analyst   \n",
       "\n",
       "    annual_inc          output  \n",
       "3      66000.0  Non-Defaulters  \n",
       "4     110000.0  Non-Defaulters  \n",
       "7      98005.0  Non-Defaulters  \n",
       "9      55000.0  Non-Defaulters  \n",
       "10     71500.0  Non-Defaulters  "
      ]
     },
     "execution_count": 15,
     "metadata": {},
     "output_type": "execute_result"
    }
   ],
   "source": [
    "loan_new_data.head()"
   ]
  },
  {
   "cell_type": "markdown",
   "metadata": {},
   "source": [
    "NEXTSTEP:\n",
    "some of the columns are not related to our target variable and some of them are redundant. \n",
    "We are going to remove those columns from the dataframe."
   ]
  },
  {
   "cell_type": "code",
   "execution_count": 16,
   "metadata": {},
   "outputs": [
    {
     "name": "stdout",
     "output_type": "stream",
     "text": [
      "Current shape of dataset : (58007, 8)\n"
     ]
    }
   ],
   "source": [
    "del_col = [\"id\",\"loan_status\",\"purpose\", \"addr_state\",\"title\",\"emp_title\",\"earliest_cr_line\",\"apply_date\",\"emp_title\"] \n",
    "dataset = loan_new_data.drop(labels = del_col, axis = 1) \n",
    "print(\"Current shape of dataset :\",dataset.shape)"
   ]
  },
  {
   "cell_type": "code",
   "execution_count": 17,
   "metadata": {},
   "outputs": [
    {
     "data": {
      "text/html": [
       "<div>\n",
       "<style scoped>\n",
       "    .dataframe tbody tr th:only-of-type {\n",
       "        vertical-align: middle;\n",
       "    }\n",
       "\n",
       "    .dataframe tbody tr th {\n",
       "        vertical-align: top;\n",
       "    }\n",
       "\n",
       "    .dataframe thead th {\n",
       "        text-align: right;\n",
       "    }\n",
       "</style>\n",
       "<table border=\"1\" class=\"dataframe\">\n",
       "  <thead>\n",
       "    <tr style=\"text-align: right;\">\n",
       "      <th></th>\n",
       "      <th>revol_bal</th>\n",
       "      <th>home_ownership</th>\n",
       "      <th>application_type</th>\n",
       "      <th>verification_status</th>\n",
       "      <th>emp_length</th>\n",
       "      <th>dti</th>\n",
       "      <th>annual_inc</th>\n",
       "      <th>output</th>\n",
       "    </tr>\n",
       "  </thead>\n",
       "  <tbody>\n",
       "    <tr>\n",
       "      <th>3</th>\n",
       "      <td>10768</td>\n",
       "      <td>MORTGAGE</td>\n",
       "      <td>INDIVIDUAL</td>\n",
       "      <td>Not Verified</td>\n",
       "      <td>10+ years</td>\n",
       "      <td>24.31</td>\n",
       "      <td>66000.0</td>\n",
       "      <td>Non-Defaulters</td>\n",
       "    </tr>\n",
       "    <tr>\n",
       "      <th>4</th>\n",
       "      <td>35551</td>\n",
       "      <td>MORTGAGE</td>\n",
       "      <td>INDIVIDUAL</td>\n",
       "      <td>Verified</td>\n",
       "      <td>2 years</td>\n",
       "      <td>1.70</td>\n",
       "      <td>110000.0</td>\n",
       "      <td>Non-Defaulters</td>\n",
       "    </tr>\n",
       "    <tr>\n",
       "      <th>7</th>\n",
       "      <td>40836</td>\n",
       "      <td>MORTGAGE</td>\n",
       "      <td>INDIVIDUAL</td>\n",
       "      <td>Not Verified</td>\n",
       "      <td>6 years</td>\n",
       "      <td>19.86</td>\n",
       "      <td>98005.0</td>\n",
       "      <td>Non-Defaulters</td>\n",
       "    </tr>\n",
       "    <tr>\n",
       "      <th>9</th>\n",
       "      <td>25237</td>\n",
       "      <td>RENT</td>\n",
       "      <td>INDIVIDUAL</td>\n",
       "      <td>Not Verified</td>\n",
       "      <td>10+ years</td>\n",
       "      <td>20.01</td>\n",
       "      <td>55000.0</td>\n",
       "      <td>Non-Defaulters</td>\n",
       "    </tr>\n",
       "    <tr>\n",
       "      <th>10</th>\n",
       "      <td>17469</td>\n",
       "      <td>RENT</td>\n",
       "      <td>INDIVIDUAL</td>\n",
       "      <td>Source Verified</td>\n",
       "      <td>10+ years</td>\n",
       "      <td>16.76</td>\n",
       "      <td>71500.0</td>\n",
       "      <td>Non-Defaulters</td>\n",
       "    </tr>\n",
       "  </tbody>\n",
       "</table>\n",
       "</div>"
      ],
      "text/plain": [
       "    revol_bal home_ownership application_type verification_status emp_length  \\\n",
       "3       10768       MORTGAGE       INDIVIDUAL        Not Verified  10+ years   \n",
       "4       35551       MORTGAGE       INDIVIDUAL            Verified    2 years   \n",
       "7       40836       MORTGAGE       INDIVIDUAL        Not Verified    6 years   \n",
       "9       25237           RENT       INDIVIDUAL        Not Verified  10+ years   \n",
       "10      17469           RENT       INDIVIDUAL     Source Verified  10+ years   \n",
       "\n",
       "      dti  annual_inc          output  \n",
       "3   24.31     66000.0  Non-Defaulters  \n",
       "4    1.70    110000.0  Non-Defaulters  \n",
       "7   19.86     98005.0  Non-Defaulters  \n",
       "9   20.01     55000.0  Non-Defaulters  \n",
       "10  16.76     71500.0  Non-Defaulters  "
      ]
     },
     "execution_count": 17,
     "metadata": {},
     "output_type": "execute_result"
    }
   ],
   "source": [
    "dataset.head()"
   ]
  },
  {
   "cell_type": "markdown",
   "metadata": {},
   "source": [
    "NEXT STEP: emp_length column"
   ]
  },
  {
   "cell_type": "code",
   "execution_count": 18,
   "metadata": {},
   "outputs": [],
   "source": [
    "dataset[\"emp_length\"] = dataset[\"emp_length\"].replace({'years':'','year':'',' ':'','<':'','\\+':'','n/a':'0','nan':'0'}, regex = True)"
   ]
  },
  {
   "cell_type": "code",
   "execution_count": 19,
   "metadata": {},
   "outputs": [
    {
     "data": {
      "text/plain": [
       "array(['INDIVIDUAL'], dtype=object)"
      ]
     },
     "execution_count": 19,
     "metadata": {},
     "output_type": "execute_result"
    }
   ],
   "source": [
    "dataset[\"application_type\"].unique()"
   ]
  },
  {
   "cell_type": "markdown",
   "metadata": {},
   "source": [
    "application type is not having the JOINT type beacuse of the fact that those records with joint account is removed when we removed\n",
    "* Current\n",
    "* Issued\n",
    "* Late\n",
    "\n",
    "SO there is no use for the application type in our data set"
   ]
  },
  {
   "cell_type": "code",
   "execution_count": 20,
   "metadata": {},
   "outputs": [],
   "source": [
    "dataset = dataset.drop(labels = \"application_type\", axis = 1) "
   ]
  },
  {
   "cell_type": "code",
   "execution_count": 21,
   "metadata": {},
   "outputs": [
    {
     "data": {
      "text/html": [
       "<div>\n",
       "<style scoped>\n",
       "    .dataframe tbody tr th:only-of-type {\n",
       "        vertical-align: middle;\n",
       "    }\n",
       "\n",
       "    .dataframe tbody tr th {\n",
       "        vertical-align: top;\n",
       "    }\n",
       "\n",
       "    .dataframe thead th {\n",
       "        text-align: right;\n",
       "    }\n",
       "</style>\n",
       "<table border=\"1\" class=\"dataframe\">\n",
       "  <thead>\n",
       "    <tr style=\"text-align: right;\">\n",
       "      <th></th>\n",
       "      <th>revol_bal</th>\n",
       "      <th>home_ownership</th>\n",
       "      <th>verification_status</th>\n",
       "      <th>emp_length</th>\n",
       "      <th>dti</th>\n",
       "      <th>annual_inc</th>\n",
       "      <th>output</th>\n",
       "    </tr>\n",
       "  </thead>\n",
       "  <tbody>\n",
       "    <tr>\n",
       "      <th>3</th>\n",
       "      <td>10768</td>\n",
       "      <td>MORTGAGE</td>\n",
       "      <td>Not Verified</td>\n",
       "      <td>10</td>\n",
       "      <td>24.31</td>\n",
       "      <td>66000.0</td>\n",
       "      <td>Non-Defaulters</td>\n",
       "    </tr>\n",
       "    <tr>\n",
       "      <th>4</th>\n",
       "      <td>35551</td>\n",
       "      <td>MORTGAGE</td>\n",
       "      <td>Verified</td>\n",
       "      <td>2</td>\n",
       "      <td>1.70</td>\n",
       "      <td>110000.0</td>\n",
       "      <td>Non-Defaulters</td>\n",
       "    </tr>\n",
       "    <tr>\n",
       "      <th>7</th>\n",
       "      <td>40836</td>\n",
       "      <td>MORTGAGE</td>\n",
       "      <td>Not Verified</td>\n",
       "      <td>6</td>\n",
       "      <td>19.86</td>\n",
       "      <td>98005.0</td>\n",
       "      <td>Non-Defaulters</td>\n",
       "    </tr>\n",
       "    <tr>\n",
       "      <th>9</th>\n",
       "      <td>25237</td>\n",
       "      <td>RENT</td>\n",
       "      <td>Not Verified</td>\n",
       "      <td>10</td>\n",
       "      <td>20.01</td>\n",
       "      <td>55000.0</td>\n",
       "      <td>Non-Defaulters</td>\n",
       "    </tr>\n",
       "    <tr>\n",
       "      <th>10</th>\n",
       "      <td>17469</td>\n",
       "      <td>RENT</td>\n",
       "      <td>Source Verified</td>\n",
       "      <td>10</td>\n",
       "      <td>16.76</td>\n",
       "      <td>71500.0</td>\n",
       "      <td>Non-Defaulters</td>\n",
       "    </tr>\n",
       "  </tbody>\n",
       "</table>\n",
       "</div>"
      ],
      "text/plain": [
       "    revol_bal home_ownership verification_status emp_length    dti  \\\n",
       "3       10768       MORTGAGE        Not Verified         10  24.31   \n",
       "4       35551       MORTGAGE            Verified          2   1.70   \n",
       "7       40836       MORTGAGE        Not Verified          6  19.86   \n",
       "9       25237           RENT        Not Verified         10  20.01   \n",
       "10      17469           RENT     Source Verified         10  16.76   \n",
       "\n",
       "    annual_inc          output  \n",
       "3      66000.0  Non-Defaulters  \n",
       "4     110000.0  Non-Defaulters  \n",
       "7      98005.0  Non-Defaulters  \n",
       "9      55000.0  Non-Defaulters  \n",
       "10     71500.0  Non-Defaulters  "
      ]
     },
     "execution_count": 21,
     "metadata": {},
     "output_type": "execute_result"
    }
   ],
   "source": [
    "dataset.head()"
   ]
  },
  {
   "cell_type": "markdown",
   "metadata": {},
   "source": [
    "Saving the final data frame into csv that we can use for the next model."
   ]
  },
  {
   "cell_type": "code",
   "execution_count": 22,
   "metadata": {},
   "outputs": [],
   "source": [
    "dataset.to_csv(\"final_training.csv\", sep=',', encoding='utf-8',index = False)"
   ]
  },
  {
   "cell_type": "markdown",
   "metadata": {},
   "source": [
    "# Final Summary after data cleaning part\n",
    "\n",
    "    As per our EDA analysis and data cleansing part we conclude that 'revol_bal', 'home_ownership', 'verification_status', 'emp_length','dti', 'annual_inc' are the important features that helps to buid our prediction model.\n",
    "\n"
   ]
  },
  {
   "cell_type": "markdown",
   "metadata": {},
   "source": [
    "**The primary issue is that the above given CSV is an Imbalanced dataset.**\n",
    "\n",
    "\n",
    "In our case banks want to predict the defaulters for loan.Practically in these cases, only a small fraction of observations are actually positives i.e defaulters output. \n",
    "\n",
    "\n",
    "the probablity of the defaulters in our data base is very less compared to the non defaulters. \n",
    "\n",
    "\n",
    "**SO we need to oversample the minority class observations to improve the quality of predictive modeling. **\n",
    "\n",
    "Oversampling can lead to the models  to learn patterns that differentiate different possible classes.\n",
    "\n",
    "\n",
    "# Next Part\n",
    "\n",
    "\n",
    "I am going to upsample the default cases by using the **Synthetic Minority Oversampling Technique.**"
   ]
  },
  {
   "cell_type": "code",
   "execution_count": null,
   "metadata": {},
   "outputs": [],
   "source": []
  }
 ],
 "metadata": {
  "kernelspec": {
   "display_name": "Python 3",
   "language": "python",
   "name": "python3"
  },
  "language_info": {
   "codemirror_mode": {
    "name": "ipython",
    "version": 3
   },
   "file_extension": ".py",
   "mimetype": "text/x-python",
   "name": "python",
   "nbconvert_exporter": "python",
   "pygments_lexer": "ipython3",
   "version": "3.6.2"
  }
 },
 "nbformat": 4,
 "nbformat_minor": 2
}
